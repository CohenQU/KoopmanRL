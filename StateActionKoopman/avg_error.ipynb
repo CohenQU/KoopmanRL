{
 "cells": [
  {
   "cell_type": "code",
   "execution_count": 11,
   "metadata": {},
   "outputs": [
    {
     "name": "stdout",
     "output_type": "stream",
     "text": [
      "average error:  0.2795243703647422\n"
     ]
    }
   ],
   "source": [
    "import numpy as np\n",
    "\n",
    "\n",
    "def rescale(X):\n",
    "    #******************************************************************************\n",
    "    # Rescale data\n",
    "    #******************************************************************************\n",
    "    Xmin = X.min(axis=0)\n",
    "    Xmax = X.max(axis=0)\n",
    "    X = ((X - Xmin) / (Xmax - Xmin)) \n",
    "    return X\n",
    "\n",
    "prefix = prefix = \"/Users/yxqu/Desktop/Research/Koopman/data\"\n",
    "path = \"{}/{}/trained.npz\".format(prefix, \"Ant-v3\")\n",
    "raw_data = np.load(path)\n",
    "raw_states = raw_data[\"states\"][:, :26]\n",
    "states = rescale(raw_states)\n",
    "\n",
    "## sample 10000 states from states\n",
    "import random\n",
    "random.seed(0)\n",
    "indices = random.sample(range(len(states)), 10000)\n",
    "sample_states = states[indices]\n",
    "\n",
    "## random generate 10000 states\n",
    "new_indices = random.sample(range(len(states)), 10000)\n",
    "random_states = states[new_indices]\n",
    "\n",
    "## compare the average error between sample_states and random_states\n",
    "\n",
    "errors = []\n",
    "for i in range(10000):\n",
    "    errors.append(np.linalg.norm(sample_states[i] - random_states[i]) / np.linalg.norm(sample_states[i]))\n",
    "\n",
    "print(\"average error: \", np.mean(errors))\n",
    "\n",
    "\n",
    "\n"
   ]
  },
  {
   "cell_type": "code",
   "execution_count": null,
   "metadata": {},
   "outputs": [],
   "source": []
  }
 ],
 "metadata": {
  "kernelspec": {
   "display_name": "Python 3",
   "language": "python",
   "name": "python3"
  },
  "language_info": {
   "codemirror_mode": {
    "name": "ipython",
    "version": 3
   },
   "file_extension": ".py",
   "mimetype": "text/x-python",
   "name": "python",
   "nbconvert_exporter": "python",
   "pygments_lexer": "ipython3",
   "version": "3.9.15"
  },
  "orig_nbformat": 4,
  "vscode": {
   "interpreter": {
    "hash": "12b9b8f4eb5baade6b75ca969cbf3ba76d665775456cb228fa2a21e94c9637e0"
   }
  }
 },
 "nbformat": 4,
 "nbformat_minor": 2
}
